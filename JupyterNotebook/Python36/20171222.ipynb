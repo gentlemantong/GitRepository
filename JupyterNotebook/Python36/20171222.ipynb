{
 "cells": [
  {
   "cell_type": "markdown",
   "metadata": {},
   "source": [
    "### 1. 最简单的装饰器"
   ]
  },
  {
   "cell_type": "code",
   "execution_count": 2,
   "metadata": {},
   "outputs": [
    {
     "name": "stdout",
     "output_type": "stream",
     "text": [
      "Hello, world!\n",
      "前面应该有输出hello-world\n"
     ]
    }
   ],
   "source": [
    "def my_decorator(func):\n",
    "    \"\"\"\n",
    "    装饰器函数\n",
    "    \"\"\"\n",
    "    def my_print(*args, **kwards):\n",
    "        print(u'Hello, world!')\n",
    "        func(*args, **kwards)\n",
    "    return my_print\n",
    "\n",
    "\n",
    "@my_decorator\n",
    "def my_test():\n",
    "    print(u'前面应该有输出hello-world')\n",
    "\n",
    "my_test()"
   ]
  }
 ],
 "metadata": {
  "kernelspec": {
   "display_name": "Python 3",
   "language": "python",
   "name": "python3"
  },
  "language_info": {
   "codemirror_mode": {
    "name": "ipython",
    "version": 3
   },
   "file_extension": ".py",
   "mimetype": "text/x-python",
   "name": "python",
   "nbconvert_exporter": "python",
   "pygments_lexer": "ipython3",
   "version": "3.6.2"
  }
 },
 "nbformat": 4,
 "nbformat_minor": 2
}
