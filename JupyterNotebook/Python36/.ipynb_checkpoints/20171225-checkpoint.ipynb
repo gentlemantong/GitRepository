{
 "cells": [
  {
   "cell_type": "markdown",
   "metadata": {},
   "source": [
    "## 艾耕科技的笔试题\n",
    "### 1. 数据结构转换\n",
    "有一个树状的csv文件，需要将其转换为对应的json"
   ]
  },
  {
   "cell_type": "code",
   "execution_count": 1,
   "metadata": {},
   "outputs": [
    {
     "ename": "FileNotFoundError",
     "evalue": "[Errno 2] No such file or directory: 'caches/history.csv'",
     "output_type": "error",
     "traceback": [
      "\u001b[0;31m---------------------------------------------------------------------------\u001b[0m",
      "\u001b[0;31mFileNotFoundError\u001b[0m                         Traceback (most recent call last)",
      "\u001b[0;32m<ipython-input-1-e5fd5691e373>\u001b[0m in \u001b[0;36m<module>\u001b[0;34m()\u001b[0m\n\u001b[1;32m     64\u001b[0m \u001b[0;34m\u001b[0m\u001b[0m\n\u001b[1;32m     65\u001b[0m \u001b[0;32mif\u001b[0m \u001b[0m__name__\u001b[0m \u001b[0;34m==\u001b[0m \u001b[0;34mu'__main__'\u001b[0m\u001b[0;34m:\u001b[0m\u001b[0;34m\u001b[0m\u001b[0m\n\u001b[0;32m---> 66\u001b[0;31m     \u001b[0mjson_result\u001b[0m \u001b[0;34m=\u001b[0m \u001b[0mmy_csv2json\u001b[0m\u001b[0;34m(\u001b[0m\u001b[0;34mu'caches/history.csv'\u001b[0m\u001b[0;34m)\u001b[0m\u001b[0;34m\u001b[0m\u001b[0m\n\u001b[0m\u001b[1;32m     67\u001b[0m     \u001b[0mprint\u001b[0m\u001b[0;34m(\u001b[0m\u001b[0mjson\u001b[0m\u001b[0;34m.\u001b[0m\u001b[0mdumps\u001b[0m\u001b[0;34m(\u001b[0m\u001b[0mjson_result\u001b[0m\u001b[0;34m,\u001b[0m \u001b[0mensure_ascii\u001b[0m\u001b[0;34m=\u001b[0m\u001b[0;32mFalse\u001b[0m\u001b[0;34m)\u001b[0m\u001b[0;34m)\u001b[0m\u001b[0;34m\u001b[0m\u001b[0m\n",
      "\u001b[0;32m<ipython-input-1-e5fd5691e373>\u001b[0m in \u001b[0;36mmy_csv2json\u001b[0;34m(file_path)\u001b[0m\n\u001b[1;32m     50\u001b[0m     \"\"\"\n\u001b[1;32m     51\u001b[0m     \u001b[0mresult\u001b[0m \u001b[0;34m=\u001b[0m \u001b[0mdict\u001b[0m\u001b[0;34m(\u001b[0m\u001b[0;34m)\u001b[0m\u001b[0;34m\u001b[0m\u001b[0m\n\u001b[0;32m---> 52\u001b[0;31m     \u001b[0;32mwith\u001b[0m \u001b[0mio\u001b[0m\u001b[0;34m.\u001b[0m\u001b[0mopen\u001b[0m\u001b[0;34m(\u001b[0m\u001b[0mfile_path\u001b[0m\u001b[0;34m,\u001b[0m \u001b[0mencoding\u001b[0m\u001b[0;34m=\u001b[0m\u001b[0;34mu'utf-8'\u001b[0m\u001b[0;34m)\u001b[0m \u001b[0;32mas\u001b[0m \u001b[0mf\u001b[0m\u001b[0;34m:\u001b[0m\u001b[0;34m\u001b[0m\u001b[0m\n\u001b[0m\u001b[1;32m     53\u001b[0m         \u001b[0mrefer\u001b[0m \u001b[0;34m=\u001b[0m \u001b[0;32mNone\u001b[0m\u001b[0;34m\u001b[0m\u001b[0m\n\u001b[1;32m     54\u001b[0m         \u001b[0;32mfor\u001b[0m \u001b[0mline\u001b[0m \u001b[0;32min\u001b[0m \u001b[0mf\u001b[0m\u001b[0;34m:\u001b[0m\u001b[0;34m\u001b[0m\u001b[0m\n",
      "\u001b[0;31mFileNotFoundError\u001b[0m: [Errno 2] No such file or directory: 'caches/history.csv'"
     ]
    }
   ],
   "source": [
    "# -*- coding: utf-8 -*-\n",
    "import copy\n",
    "import json\n",
    "\n",
    "import io\n",
    "\n",
    "\n",
    "def my_update_result(result, records):\n",
    "    \"\"\"\n",
    "    更新result\n",
    "    :param result: result\n",
    "    :param records: 单行数据\n",
    "    :return: 无\n",
    "    \"\"\"\n",
    "    temp_result = result\n",
    "    for i, v in enumerate(records):\n",
    "        if v in temp_result.keys():\n",
    "            temp_result = temp_result[v]\n",
    "        else:\n",
    "            temp_result[v] = dict()\n",
    "            temp_result = temp_result[v]\n",
    "\n",
    "\n",
    "def my_reset_result(result):\n",
    "    \"\"\"\n",
    "    返回之前对result进行一些设置\n",
    "    :param result: result\n",
    "    :return: 无\n",
    "    \"\"\"\n",
    "    for key in result.keys():\n",
    "        if result[key]:\n",
    "            size = len(result[key])\n",
    "            for item in result[key].keys():\n",
    "                if result[key][item]:\n",
    "                    my_reset_result(result[key][item])\n",
    "                else:\n",
    "                    size -= 1\n",
    "            if not size:\n",
    "                keys = list(result[key].keys())\n",
    "                result[key] = keys\n",
    "        else:\n",
    "            result[key] = []\n",
    "\n",
    "\n",
    "def my_csv2json(file_path):\n",
    "    \"\"\"\n",
    "    将csv数据转换为json格式\n",
    "    :param file_path: csv文件路径\n",
    "    :return: 转换结果\n",
    "    \"\"\"\n",
    "    result = dict()\n",
    "    with io.open(file_path, encoding=u'utf-8') as f:\n",
    "        refer = None\n",
    "        for line in f:\n",
    "            records = line.strip().split(u',')\n",
    "            if records:\n",
    "                for i, v in enumerate(records):\n",
    "                    records[i] = v or refer[i]\n",
    "                my_update_result(result, records)\n",
    "                refer = copy.deepcopy(records)\n",
    "    my_reset_result(result)\n",
    "    return result\n",
    "\n",
    "\n",
    "if __name__ == u'__main__':\n",
    "    json_result = my_csv2json(u'caches/history.csv')\n",
    "    print(json.dumps(json_result, ensure_ascii=False))\n"
   ]
  }
 ],
 "metadata": {
  "kernelspec": {
   "display_name": "Python 3",
   "language": "python",
   "name": "python3"
  },
  "language_info": {
   "codemirror_mode": {
    "name": "ipython",
    "version": 3
   },
   "file_extension": ".py",
   "mimetype": "text/x-python",
   "name": "python",
   "nbconvert_exporter": "python",
   "pygments_lexer": "ipython3",
   "version": "3.5.2"
  }
 },
 "nbformat": 4,
 "nbformat_minor": 2
}
