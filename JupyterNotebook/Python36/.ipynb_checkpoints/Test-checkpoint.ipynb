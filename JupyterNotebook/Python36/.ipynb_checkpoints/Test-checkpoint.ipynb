{
 "cells": [
  {
   "cell_type": "markdown",
   "metadata": {},
   "source": [
    "### 1. 从一个简单的测试程序开始\n",
    "Jupyter Notebook导出的文本不但可以包括代码，还可以包括运行结果，这一点非常好。\n",
    "不过，在Jupyter上写Markdown比较别扭：\n",
    "- 还不是非常习惯；\n",
    "- 还不是非常习惯；\n",
    "\n",
    "下面是测试代码和运行结果："
   ]
  },
  {
   "cell_type": "code",
   "execution_count": 3,
   "metadata": {},
   "outputs": [
    {
     "name": "stdout",
     "output_type": "stream",
     "text": [
      "This's the starting...\n",
      "====> i = 0\n",
      "====> i = 1\n",
      "====> i = 2\n",
      "====> i = 3\n",
      "====> i = 4\n",
      "====> i = 5\n",
      "====> i = 6\n",
      "====> i = 7\n",
      "====> i = 8\n",
      "====> i = 9\n",
      "Hello world!\n",
      "This's the end.\n"
     ]
    }
   ],
   "source": [
    "print(u'This\\'s the starting...')\n",
    "for i in range(10):\n",
    "    print(u'====> i = {0}'.format(i))\n",
    "print(u'Hello world!')\n",
    "print(u'This\\'s the end.')"
   ]
  },
  {
   "cell_type": "markdown",
   "metadata": {},
   "source": [
    "可以看出，Jupyter Notebook的好处还是非常明显的，可以直接显示执行结果，而且可以随时修改。"
   ]
  }
 ],
 "metadata": {
  "kernelspec": {
   "display_name": "Python 3",
   "language": "python",
   "name": "python3"
  },
  "language_info": {
   "codemirror_mode": {
    "name": "ipython",
    "version": 3
   },
   "file_extension": ".py",
   "mimetype": "text/x-python",
   "name": "python",
   "nbconvert_exporter": "python",
   "pygments_lexer": "ipython3",
   "version": "3.6.2"
  }
 },
 "nbformat": 4,
 "nbformat_minor": 2
}
