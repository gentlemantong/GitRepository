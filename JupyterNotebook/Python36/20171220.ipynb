{
 "cells": [
  {
   "cell_type": "markdown",
   "metadata": {},
   "source": [
    "### 1. enumerate\n",
    "- enumerate可以添加第二个参数，来指定开始计数时所使用的值（默认为0）"
   ]
  },
  {
   "cell_type": "code",
   "execution_count": 1,
   "metadata": {},
   "outputs": [
    {
     "name": "stdout",
     "output_type": "stream",
     "text": [
      "====> 1: a\n",
      "====> 2: b\n",
      "====> 3: c\n",
      "====> 4: d\n"
     ]
    }
   ],
   "source": [
    "my_array = [u'a', u'b', u'c', u'd']\n",
    "for i, v in enumerate(my_array, 1):\n",
    "    print(u'====> {0}: {1}'.format(i, v))"
   ]
  },
  {
   "cell_type": "markdown",
   "metadata": {},
   "source": [
    "### 2. zip和zip_longest（python2里对应使用itertools的izip和izip_longest）"
   ]
  },
  {
   "cell_type": "markdown",
   "metadata": {},
   "source": [
    "- 使用zip时，以最短的那个迭代器长度为准产生结果"
   ]
  },
  {
   "cell_type": "code",
   "execution_count": 3,
   "metadata": {},
   "outputs": [
    {
     "name": "stdout",
     "output_type": "stream",
     "text": [
      "[('a', 1), ('b', 2), ('c', 3)]\n"
     ]
    }
   ],
   "source": [
    "my_keys = [u'a', u'b', u'c']\n",
    "my_values = [1, 2, 3, 4]\n",
    "\n",
    "# 使用zip\n",
    "print(list(zip(my_keys, my_values)))"
   ]
  },
  {
   "cell_type": "markdown",
   "metadata": {},
   "source": [
    "- 使用zip_longest时，以最长的那个迭代器长度为准产生结果，长度不够的用`None`补齐"
   ]
  },
  {
   "cell_type": "code",
   "execution_count": 4,
   "metadata": {},
   "outputs": [
    {
     "name": "stdout",
     "output_type": "stream",
     "text": [
      "[('a', 1), ('b', 2), ('c', 3), (None, 4)]\n"
     ]
    }
   ],
   "source": [
    "from itertools import zip_longest\n",
    "\n",
    "my_keys = [u'a', u'b', u'c']\n",
    "my_values = [1, 2, 3, 4]\n",
    "\n",
    "# 使用zip_longest\n",
    "print(list(zip_longest(my_keys, my_values)))"
   ]
  },
  {
   "cell_type": "markdown",
   "metadata": {},
   "source": [
    "### 3. 使用下划线来跳过tuple中的值"
   ]
  },
  {
   "cell_type": "markdown",
   "metadata": {},
   "source": [
    "- 下划线在第一位"
   ]
  },
  {
   "cell_type": "code",
   "execution_count": 8,
   "metadata": {},
   "outputs": [
    {
     "name": "stdout",
     "output_type": "stream",
     "text": [
      "a\n",
      "b\n",
      "c\n"
     ]
    }
   ],
   "source": [
    "my_array = [u'a', u'b', u'c']\n",
    "for _, v in enumerate(my_array):\n",
    "    print(v)"
   ]
  },
  {
   "cell_type": "markdown",
   "metadata": {},
   "source": [
    "- 下划线在第二位"
   ]
  },
  {
   "cell_type": "code",
   "execution_count": 11,
   "metadata": {},
   "outputs": [
    {
     "name": "stdout",
     "output_type": "stream",
     "text": [
      "0\n",
      "1\n",
      "2\n"
     ]
    }
   ],
   "source": [
    "my_array = [u'a', u'b', u'c']\n",
    "for i, _ in enumerate(my_array):\n",
    "    print(i)"
   ]
  }
 ],
 "metadata": {
  "kernelspec": {
   "display_name": "Python 3",
   "language": "python",
   "name": "python3"
  },
  "language_info": {
   "codemirror_mode": {
    "name": "ipython",
    "version": 3
   },
   "file_extension": ".py",
   "mimetype": "text/x-python",
   "name": "python",
   "nbconvert_exporter": "python",
   "pygments_lexer": "ipython3",
   "version": "3.6.2"
  }
 },
 "nbformat": 4,
 "nbformat_minor": 2
}
